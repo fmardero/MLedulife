{
  "nbformat": 4,
  "nbformat_minor": 0,
  "metadata": {
    "colab": {
      "name": "intro_python.ipynb",
      "provenance": [],
      "collapsed_sections": []
    },
    "kernelspec": {
      "name": "python3",
      "display_name": "Python 3"
    }
  },
  "cells": [
    {
      "cell_type": "markdown",
      "metadata": {
        "id": "dz9z6v0CmNGH",
        "colab_type": "text"
      },
      "source": [
        "# Some examples in Python 3.x"
      ]
    },
    {
      "cell_type": "markdown",
      "metadata": {
        "id": "fLTbOeqSkj5p",
        "colab_type": "text"
      },
      "source": [
        "[![Open In Colab](https://colab.research.google.com/assets/colab-badge.svg)](https://colab.research.google.com/github/fmardero/MLedulife/blob/master/lesson_02/intro_python.ipynb)"
      ]
    },
    {
      "cell_type": "markdown",
      "metadata": {
        "id": "hIdUdS5xmod0",
        "colab_type": "text"
      },
      "source": [
        "## Hello World"
      ]
    },
    {
      "cell_type": "code",
      "metadata": {
        "id": "dNH66hpakkz9",
        "colab_type": "code",
        "outputId": "7b197c3e-8201-4570-98a6-4cd64cbd7b0b",
        "colab": {
          "base_uri": "https://localhost:8080/",
          "height": 34
        }
      },
      "source": [
        "print('Hello World!')"
      ],
      "execution_count": 0,
      "outputs": [
        {
          "output_type": "stream",
          "text": [
            "Hello World!\n"
          ],
          "name": "stdout"
        }
      ]
    },
    {
      "cell_type": "code",
      "metadata": {
        "id": "SKOGbMjanm57",
        "colab_type": "code",
        "outputId": "8a2fd43e-9a65-4540-ab0f-71293588a2a1",
        "colab": {
          "base_uri": "https://localhost:8080/",
          "height": 34
        }
      },
      "source": [
        "print(\"Hello World!\")"
      ],
      "execution_count": 0,
      "outputs": [
        {
          "output_type": "stream",
          "text": [
            "Hello World!\n"
          ],
          "name": "stdout"
        }
      ]
    },
    {
      "cell_type": "code",
      "metadata": {
        "id": "zMIy22RbntzB",
        "colab_type": "code",
        "outputId": "b9a7dada-5958-478b-fd15-c22b7d54987e",
        "colab": {
          "base_uri": "https://localhost:8080/",
          "height": 34
        }
      },
      "source": [
        "# Jupyter Notebooks only\n",
        "'Hello World!'"
      ],
      "execution_count": 0,
      "outputs": [
        {
          "output_type": "execute_result",
          "data": {
            "text/plain": [
              "'Hello World!'"
            ]
          },
          "metadata": {
            "tags": []
          },
          "execution_count": 3
        }
      ]
    },
    {
      "cell_type": "markdown",
      "metadata": {
        "id": "Kj2l30fxnT_U",
        "colab_type": "text"
      },
      "source": [
        "## Variables and some formats"
      ]
    },
    {
      "cell_type": "code",
      "metadata": {
        "id": "fhSYxZnzmvYj",
        "colab_type": "code",
        "outputId": "44b95910-f5f9-406e-936b-fb3e14a43471",
        "colab": {
          "base_uri": "https://localhost:8080/",
          "height": 34
        }
      },
      "source": [
        "var = 'Hello World!'\n",
        "type(var)"
      ],
      "execution_count": 0,
      "outputs": [
        {
          "output_type": "execute_result",
          "data": {
            "text/plain": [
              "str"
            ]
          },
          "metadata": {
            "tags": []
          },
          "execution_count": 4
        }
      ]
    },
    {
      "cell_type": "code",
      "metadata": {
        "id": "ICWa8AyvoSJU",
        "colab_type": "code",
        "outputId": "1b0f01dc-b25b-4bff-880e-f60d5ecaee97",
        "colab": {
          "base_uri": "https://localhost:8080/",
          "height": 34
        }
      },
      "source": [
        "var = 10\n",
        "type(var)"
      ],
      "execution_count": 0,
      "outputs": [
        {
          "output_type": "execute_result",
          "data": {
            "text/plain": [
              "int"
            ]
          },
          "metadata": {
            "tags": []
          },
          "execution_count": 5
        }
      ]
    },
    {
      "cell_type": "code",
      "metadata": {
        "id": "GM9ZUQELoXiD",
        "colab_type": "code",
        "outputId": "ddbcb1b5-8f68-4c31-b4b5-e07fe58e2883",
        "colab": {
          "base_uri": "https://localhost:8080/",
          "height": 34
        }
      },
      "source": [
        "var = 10.0\n",
        "type(var)"
      ],
      "execution_count": 0,
      "outputs": [
        {
          "output_type": "execute_result",
          "data": {
            "text/plain": [
              "float"
            ]
          },
          "metadata": {
            "tags": []
          },
          "execution_count": 6
        }
      ]
    },
    {
      "cell_type": "code",
      "metadata": {
        "id": "dNQVOZpjontL",
        "colab_type": "code",
        "outputId": "bcd44887-9960-4602-842d-d4afc50a8fe3",
        "colab": {
          "base_uri": "https://localhost:8080/",
          "height": 34
        }
      },
      "source": [
        "var = True\n",
        "type(var)"
      ],
      "execution_count": 0,
      "outputs": [
        {
          "output_type": "execute_result",
          "data": {
            "text/plain": [
              "bool"
            ]
          },
          "metadata": {
            "tags": []
          },
          "execution_count": 7
        }
      ]
    },
    {
      "cell_type": "markdown",
      "metadata": {
        "id": "nR4HuTm0sHwU",
        "colab_type": "text"
      },
      "source": [
        "## Strings"
      ]
    },
    {
      "cell_type": "code",
      "metadata": {
        "id": "H8oDXFF7nUWb",
        "colab_type": "code",
        "outputId": "3673b3ac-20e5-4445-e34d-a18afe23eebf",
        "colab": {
          "base_uri": "https://localhost:8080/",
          "height": 34
        }
      },
      "source": [
        "var = 'Happy Machine Learning!'\n",
        "var[0]"
      ],
      "execution_count": 0,
      "outputs": [
        {
          "output_type": "execute_result",
          "data": {
            "text/plain": [
              "'H'"
            ]
          },
          "metadata": {
            "tags": []
          },
          "execution_count": 8
        }
      ]
    },
    {
      "cell_type": "code",
      "metadata": {
        "id": "OlVZMrlisR89",
        "colab_type": "code",
        "outputId": "48767570-33a5-4da9-94f7-28c62ace0631",
        "colab": {
          "base_uri": "https://localhost:8080/",
          "height": 34
        }
      },
      "source": [
        "var[:5]"
      ],
      "execution_count": 0,
      "outputs": [
        {
          "output_type": "execute_result",
          "data": {
            "text/plain": [
              "'Happy'"
            ]
          },
          "metadata": {
            "tags": []
          },
          "execution_count": 9
        }
      ]
    },
    {
      "cell_type": "code",
      "metadata": {
        "id": "N06mdLkI-TrN",
        "colab_type": "code",
        "outputId": "0a82eeb4-a8cc-4464-a8bb-c6a27d73785a",
        "colab": {
          "base_uri": "https://localhost:8080/",
          "height": 34
        }
      },
      "source": [
        "var[6:13]"
      ],
      "execution_count": 0,
      "outputs": [
        {
          "output_type": "execute_result",
          "data": {
            "text/plain": [
              "'Machine'"
            ]
          },
          "metadata": {
            "tags": []
          },
          "execution_count": 10
        }
      ]
    },
    {
      "cell_type": "code",
      "metadata": {
        "id": "TLW544P_sW1s",
        "colab_type": "code",
        "outputId": "dbe042bd-44a7-4bf7-f421-87782a6f74d1",
        "colab": {
          "base_uri": "https://localhost:8080/",
          "height": 34
        }
      },
      "source": [
        "var[-1]"
      ],
      "execution_count": 0,
      "outputs": [
        {
          "output_type": "execute_result",
          "data": {
            "text/plain": [
              "'!'"
            ]
          },
          "metadata": {
            "tags": []
          },
          "execution_count": 11
        }
      ]
    },
    {
      "cell_type": "code",
      "metadata": {
        "id": "xaoO5BeqscNG",
        "colab_type": "code",
        "outputId": "ecb8bf07-ea8c-4f90-c5be-5b2b86626db7",
        "colab": {
          "base_uri": "https://localhost:8080/",
          "height": 34
        }
      },
      "source": [
        "var[-9:]"
      ],
      "execution_count": 0,
      "outputs": [
        {
          "output_type": "execute_result",
          "data": {
            "text/plain": [
              "'Learning!'"
            ]
          },
          "metadata": {
            "tags": []
          },
          "execution_count": 12
        }
      ]
    },
    {
      "cell_type": "code",
      "metadata": {
        "id": "2cv2xUWusjbW",
        "colab_type": "code",
        "outputId": "ce4e1b69-964a-49e9-e4bc-9468550dc101",
        "colab": {
          "base_uri": "https://localhost:8080/",
          "height": 34
        }
      },
      "source": [
        "var[:-10]"
      ],
      "execution_count": 0,
      "outputs": [
        {
          "output_type": "execute_result",
          "data": {
            "text/plain": [
              "'Happy Machine'"
            ]
          },
          "metadata": {
            "tags": []
          },
          "execution_count": 13
        }
      ]
    },
    {
      "cell_type": "code",
      "metadata": {
        "id": "UNMxGRFK-3us",
        "colab_type": "code",
        "outputId": "c4d4ab7c-d86f-47f8-eebd-c0179d3acc33",
        "colab": {
          "base_uri": "https://localhost:8080/",
          "height": 163
        }
      },
      "source": [
        "var[0] = 'C'"
      ],
      "execution_count": 0,
      "outputs": [
        {
          "output_type": "error",
          "ename": "TypeError",
          "evalue": "ignored",
          "traceback": [
            "\u001b[0;31m---------------------------------------------------------------------------\u001b[0m",
            "\u001b[0;31mTypeError\u001b[0m                                 Traceback (most recent call last)",
            "\u001b[0;32m<ipython-input-54-a9fdbf223691>\u001b[0m in \u001b[0;36m<module>\u001b[0;34m()\u001b[0m\n\u001b[0;32m----> 1\u001b[0;31m \u001b[0mvar\u001b[0m\u001b[0;34m[\u001b[0m\u001b[0;36m0\u001b[0m\u001b[0;34m]\u001b[0m \u001b[0;34m=\u001b[0m \u001b[0;34m'C'\u001b[0m\u001b[0;34m\u001b[0m\u001b[0;34m\u001b[0m\u001b[0m\n\u001b[0m",
            "\u001b[0;31mTypeError\u001b[0m: 'str' object does not support item assignment"
          ]
        }
      ]
    },
    {
      "cell_type": "markdown",
      "metadata": {
        "id": "scoXy9A6meZS",
        "colab_type": "text"
      },
      "source": [
        "## Some String Formatting"
      ]
    },
    {
      "cell_type": "code",
      "metadata": {
        "id": "rjdGpkukmg9F",
        "colab_type": "code",
        "outputId": "5184a6aa-43e6-4283-a10c-3c77167cc97b",
        "colab": {
          "base_uri": "https://localhost:8080/",
          "height": 34
        }
      },
      "source": [
        "var = 'Happy Machine Learning!'\n",
        "\n",
        "# Obsolete formatting\n",
        "print('Suddenly he said: \\\"%s\\\"' % var)"
      ],
      "execution_count": 0,
      "outputs": [
        {
          "output_type": "stream",
          "text": [
            "Suddenly he said: \"Happy Machine Learning!\"\n"
          ],
          "name": "stdout"
        }
      ]
    },
    {
      "cell_type": "code",
      "metadata": {
        "id": "yphqHXz5pzaa",
        "colab_type": "code",
        "outputId": "572d1677-e958-43ce-a0c7-95d0fcdb7874",
        "colab": {
          "base_uri": "https://localhost:8080/",
          "height": 187
        }
      },
      "source": [
        "pi = 3.1415\n",
        "\n",
        "# Obsolete formatting\n",
        "print('pi =', pi)\n",
        "print('pi = %3f' % pi)\n",
        "print('pi = %3.6f' % pi)\n",
        "print('pi = %.2f' % pi)\n",
        "print('pi = %8.2f' % pi)\n",
        "print('pi = %08.2f' % pi)\n",
        "print('pi = %3.2f' % pi)\n",
        "print('pi = %3d' % pi)\n",
        "print('pi = %03d' % pi)\n",
        "print('pi = %s' % pi)"
      ],
      "execution_count": 0,
      "outputs": [
        {
          "output_type": "stream",
          "text": [
            "pi = 3.1415\n",
            "pi = 3.141500\n",
            "pi = 3.141500\n",
            "pi = 3.14\n",
            "pi =     3.14\n",
            "pi = 00003.14\n",
            "pi = 3.14\n",
            "pi =   3\n",
            "pi = 003\n",
            "pi = 3.1415\n"
          ],
          "name": "stdout"
        }
      ]
    },
    {
      "cell_type": "code",
      "metadata": {
        "id": "cSGXDb7Fq268",
        "colab_type": "code",
        "outputId": "33b8a7cf-d1ed-400b-a927-07c22bc9b4bd",
        "colab": {
          "base_uri": "https://localhost:8080/",
          "height": 85
        }
      },
      "source": [
        "# Two ways to format in Python 3.x\n",
        "print('pi = {}'.format(pi))\n",
        "print(f'pi = {pi}')\n",
        "\n",
        "print('pi = {:.2f}'.format(pi))\n",
        "print(f'pi = {pi:.2f}')"
      ],
      "execution_count": 0,
      "outputs": [
        {
          "output_type": "stream",
          "text": [
            "pi = 3.1415\n",
            "pi = 3.1415\n",
            "pi = 3.14\n",
            "pi = 3.14\n"
          ],
          "name": "stdout"
        }
      ]
    },
    {
      "cell_type": "code",
      "metadata": {
        "id": "RG1FJpv6r93n",
        "colab_type": "code",
        "outputId": "a48493f7-6b9a-4ad7-cd0f-49a90d3d5e53",
        "colab": {
          "base_uri": "https://localhost:8080/",
          "height": 34
        }
      },
      "source": [
        "var = f'pi = {pi:.2f}'\n",
        "var"
      ],
      "execution_count": 0,
      "outputs": [
        {
          "output_type": "execute_result",
          "data": {
            "text/plain": [
              "'pi = 3.14'"
            ]
          },
          "metadata": {
            "tags": []
          },
          "execution_count": 17
        }
      ]
    },
    {
      "cell_type": "markdown",
      "metadata": {
        "id": "5CJKejqGmyvL",
        "colab_type": "text"
      },
      "source": [
        "## If Statement"
      ]
    },
    {
      "cell_type": "code",
      "metadata": {
        "id": "W4FaDS4VmzGs",
        "colab_type": "code",
        "outputId": "0bc24a21-0bb8-46e3-bae5-862f19a755f6",
        "colab": {
          "base_uri": "https://localhost:8080/",
          "height": 34
        }
      },
      "source": [
        "# \"Tabs are the new parenthesis.\"\n",
        "pi = 3.1415\n",
        "\n",
        "if pi / 3 > 1:\n",
        "    print('Well done.')\n",
        "else:\n",
        "    print(f'Please retry. Statement {pi/3} > 1 is false.')"
      ],
      "execution_count": 0,
      "outputs": [
        {
          "output_type": "stream",
          "text": [
            "Well done.\n"
          ],
          "name": "stdout"
        }
      ]
    },
    {
      "cell_type": "code",
      "metadata": {
        "id": "IRgJ5NkutDDT",
        "colab_type": "code",
        "outputId": "a6d1a3b0-52bb-4a3e-dee8-52562e303373",
        "colab": {
          "base_uri": "https://localhost:8080/",
          "height": 34
        }
      },
      "source": [
        "if pi // 3 > 1:\n",
        "    print('Well done.')\n",
        "else:\n",
        "    print(f'Please retry. Statement {pi//3} > 1 is false.')"
      ],
      "execution_count": 0,
      "outputs": [
        {
          "output_type": "stream",
          "text": [
            "Please retry. Statement 1.0 > 1 is false.\n"
          ],
          "name": "stdout"
        }
      ]
    },
    {
      "cell_type": "code",
      "metadata": {
        "id": "V7mIS_zCtLUx",
        "colab_type": "code",
        "outputId": "cd062f9b-5849-4066-dcb5-96e979aa9428",
        "colab": {
          "base_uri": "https://localhost:8080/",
          "height": 34
        }
      },
      "source": [
        "if pi % 3 > 1:\n",
        "    print('Well done.')\n",
        "else:\n",
        "    print(f'Please retry. Statement {pi%3:.2f} > 1 is false.')"
      ],
      "execution_count": 0,
      "outputs": [
        {
          "output_type": "stream",
          "text": [
            "Please retry. Statement 0.14 > 1 is false.\n"
          ],
          "name": "stdout"
        }
      ]
    },
    {
      "cell_type": "code",
      "metadata": {
        "id": "NPXzp4owtqcm",
        "colab_type": "code",
        "outputId": "c406eba6-b3c1-4e20-d5ae-d219c59f7afb",
        "colab": {
          "base_uri": "https://localhost:8080/",
          "height": 214
        }
      },
      "source": [
        "var = 'Happy Machine Learning!'\n",
        "\n",
        "if 'Happy' in var:\n",
        "    print('Well done.')\n",
        "else:\n",
        "    print(f'Please retry.')"
      ],
      "execution_count": 0,
      "outputs": [
        {
          "output_type": "stream",
          "text": [
            "Well done.\n"
          ],
          "name": "stdout"
        },
        {
          "output_type": "error",
          "ename": "TypeError",
          "evalue": "ignored",
          "traceback": [
            "\u001b[0;31m---------------------------------------------------------------------------\u001b[0m",
            "\u001b[0;31mTypeError\u001b[0m                                 Traceback (most recent call last)",
            "\u001b[0;32m<ipython-input-53-f545a26bf285>\u001b[0m in \u001b[0;36m<module>\u001b[0;34m()\u001b[0m\n\u001b[1;32m      5\u001b[0m \u001b[0;32melse\u001b[0m\u001b[0;34m:\u001b[0m\u001b[0;34m\u001b[0m\u001b[0;34m\u001b[0m\u001b[0m\n\u001b[1;32m      6\u001b[0m     \u001b[0mprint\u001b[0m\u001b[0;34m(\u001b[0m\u001b[0;34mf'Please retry.'\u001b[0m\u001b[0;34m)\u001b[0m\u001b[0;34m\u001b[0m\u001b[0;34m\u001b[0m\u001b[0m\n\u001b[0;32m----> 7\u001b[0;31m \u001b[0mvar\u001b[0m\u001b[0;34m[\u001b[0m\u001b[0;36m0\u001b[0m\u001b[0;34m]\u001b[0m \u001b[0;34m=\u001b[0m \u001b[0;34m'C'\u001b[0m\u001b[0;34m\u001b[0m\u001b[0;34m\u001b[0m\u001b[0m\n\u001b[0m",
            "\u001b[0;31mTypeError\u001b[0m: 'str' object does not support item assignment"
          ]
        }
      ]
    },
    {
      "cell_type": "code",
      "metadata": {
        "id": "sh9ID093uXY8",
        "colab_type": "code",
        "outputId": "d8280091-195a-4f9f-e5aa-7543de85fc6d",
        "colab": {
          "base_uri": "https://localhost:8080/",
          "height": 34
        }
      },
      "source": [
        "not ('Happy' in var)"
      ],
      "execution_count": 0,
      "outputs": [
        {
          "output_type": "execute_result",
          "data": {
            "text/plain": [
              "False"
            ]
          },
          "metadata": {
            "tags": []
          },
          "execution_count": 22
        }
      ]
    },
    {
      "cell_type": "code",
      "metadata": {
        "id": "gvgcOrU7uaay",
        "colab_type": "code",
        "outputId": "ce070e3e-4471-4dfe-fe5c-750dc8d754e3",
        "colab": {
          "base_uri": "https://localhost:8080/",
          "height": 34
        }
      },
      "source": [
        "'happy' in var"
      ],
      "execution_count": 0,
      "outputs": [
        {
          "output_type": "execute_result",
          "data": {
            "text/plain": [
              "False"
            ]
          },
          "metadata": {
            "tags": []
          },
          "execution_count": 23
        }
      ]
    },
    {
      "cell_type": "markdown",
      "metadata": {
        "id": "YMEjsFhTnA2L",
        "colab_type": "text"
      },
      "source": [
        "## Lists, Tuples, Sets, Dictionaries"
      ]
    },
    {
      "cell_type": "markdown",
      "metadata": {
        "id": "wGi82LoQ9xN_",
        "colab_type": "text"
      },
      "source": [
        "### List\n",
        "The list is an ordered collection of objects. "
      ]
    },
    {
      "cell_type": "code",
      "metadata": {
        "id": "EMyy_OrRnBQ7",
        "colab_type": "code",
        "outputId": "2b950a69-eaea-4e78-d4ec-a8e03b7c9d3d",
        "colab": {
          "base_uri": "https://localhost:8080/",
          "height": 119
        }
      },
      "source": [
        "var = [] # or var = list()\n",
        "print(var)\n",
        "\n",
        "var.append([0, 1])\n",
        "print(var)\n",
        "\n",
        "var += [2]\n",
        "print(var)\n",
        "\n",
        "print(f'First element {var[0]}', f'Second element: {var[1]}', sep='\\n')\n",
        "print(f'Second element of first element: {var[0][1]}')"
      ],
      "execution_count": 0,
      "outputs": [
        {
          "output_type": "stream",
          "text": [
            "[]\n",
            "[[0, 1]]\n",
            "[[0, 1], 2]\n",
            "First element [0, 1]\n",
            "Second element: 2\n",
            "Second element of first element: 1\n"
          ],
          "name": "stdout"
        }
      ]
    },
    {
      "cell_type": "code",
      "metadata": {
        "id": "InVaMGYR9fDc",
        "colab_type": "code",
        "outputId": "2f554b94-6b14-4273-e0e6-26098fb7539c",
        "colab": {
          "base_uri": "https://localhost:8080/",
          "height": 68
        }
      },
      "source": [
        "# Lists can be sorted\n",
        "var = [3, 1, 2]\n",
        "\n",
        "print(sorted(var))\n",
        "print(var)\n",
        "\n",
        "var.sort()\n",
        "\n",
        "print(var)"
      ],
      "execution_count": 0,
      "outputs": [
        {
          "output_type": "stream",
          "text": [
            "[1, 2, 3]\n",
            "[3, 1, 2]\n",
            "[1, 2, 3]\n"
          ],
          "name": "stdout"
        }
      ]
    },
    {
      "cell_type": "code",
      "metadata": {
        "id": "-MDFgNi1ySyM",
        "colab_type": "code",
        "colab": {
          "base_uri": "https://localhost:8080/",
          "height": 408
        },
        "outputId": "4e3cb68d-708b-4b9b-daa9-7689d4c91374"
      },
      "source": [
        "list('Happy Machine Learning!')"
      ],
      "execution_count": 2,
      "outputs": [
        {
          "output_type": "execute_result",
          "data": {
            "text/plain": [
              "['H',\n",
              " 'a',\n",
              " 'p',\n",
              " 'p',\n",
              " 'y',\n",
              " ' ',\n",
              " 'M',\n",
              " 'a',\n",
              " 'c',\n",
              " 'h',\n",
              " 'i',\n",
              " 'n',\n",
              " 'e',\n",
              " ' ',\n",
              " 'L',\n",
              " 'e',\n",
              " 'a',\n",
              " 'r',\n",
              " 'n',\n",
              " 'i',\n",
              " 'n',\n",
              " 'g',\n",
              " '!']"
            ]
          },
          "metadata": {
            "tags": []
          },
          "execution_count": 2
        }
      ]
    },
    {
      "cell_type": "markdown",
      "metadata": {
        "id": "2QheSRTw9zub",
        "colab_type": "text"
      },
      "source": [
        "### Tuple\n",
        "Tuples are data structures that are very similar to lists, but they can’t be modified. They can only be created."
      ]
    },
    {
      "cell_type": "code",
      "metadata": {
        "id": "5NnjTmNOAYx4",
        "colab_type": "code",
        "outputId": "6899c0b7-ecdf-4d57-fa32-f07f9b9fd76b",
        "colab": {
          "base_uri": "https://localhost:8080/",
          "height": 197
        }
      },
      "source": [
        "var = (0, 1, 2) # or var = tuple()\n",
        "\n",
        "# Tuple elements can't be modified\n",
        "var[0] = 3"
      ],
      "execution_count": 0,
      "outputs": [
        {
          "output_type": "error",
          "ename": "TypeError",
          "evalue": "ignored",
          "traceback": [
            "\u001b[0;31m---------------------------------------------------------------------------\u001b[0m",
            "\u001b[0;31mTypeError\u001b[0m                                 Traceback (most recent call last)",
            "\u001b[0;32m<ipython-input-56-832dc81c1201>\u001b[0m in \u001b[0;36m<module>\u001b[0;34m()\u001b[0m\n\u001b[1;32m      2\u001b[0m \u001b[0;34m\u001b[0m\u001b[0m\n\u001b[1;32m      3\u001b[0m \u001b[0;31m# Tuple elements can't be modified\u001b[0m\u001b[0;34m\u001b[0m\u001b[0;34m\u001b[0m\u001b[0;34m\u001b[0m\u001b[0m\n\u001b[0;32m----> 4\u001b[0;31m \u001b[0mvar\u001b[0m\u001b[0;34m[\u001b[0m\u001b[0;36m0\u001b[0m\u001b[0;34m]\u001b[0m \u001b[0;34m=\u001b[0m \u001b[0;36m3\u001b[0m\u001b[0;34m\u001b[0m\u001b[0;34m\u001b[0m\u001b[0m\n\u001b[0m",
            "\u001b[0;31mTypeError\u001b[0m: 'tuple' object does not support item assignment"
          ]
        }
      ]
    },
    {
      "cell_type": "markdown",
      "metadata": {
        "id": "rb-aSyRv-Fez",
        "colab_type": "text"
      },
      "source": [
        "### Set\n",
        "A set in Python is an unordered collection of objects used in situations where membership and uniqueness in the set are main things you need to know about that object.\n",
        "The items in a set must be immutable and hashable."
      ]
    },
    {
      "cell_type": "code",
      "metadata": {
        "id": "PvlFP4hg-O7R",
        "colab_type": "code",
        "outputId": "5c8d854b-e1be-42d3-a4c0-7f8aeb593a80",
        "colab": {
          "base_uri": "https://localhost:8080/",
          "height": 34
        }
      },
      "source": [
        "var = {1, 3, 2, 1, 3} #set([1, 3, 2, 1, 3])\n",
        "var"
      ],
      "execution_count": 0,
      "outputs": [
        {
          "output_type": "execute_result",
          "data": {
            "text/plain": [
              "{1, 2, 3}"
            ]
          },
          "metadata": {
            "tags": []
          },
          "execution_count": 51
        }
      ]
    },
    {
      "cell_type": "code",
      "metadata": {
        "id": "1dlHYLmKyabi",
        "colab_type": "code",
        "colab": {
          "base_uri": "https://localhost:8080/",
          "height": 34
        },
        "outputId": "ce413130-c252-4233-e2a7-cd2bc63f5893"
      },
      "source": [
        "set([1, 2, 2, 3, 1, 0])"
      ],
      "execution_count": 1,
      "outputs": [
        {
          "output_type": "execute_result",
          "data": {
            "text/plain": [
              "{0, 1, 2, 3}"
            ]
          },
          "metadata": {
            "tags": []
          },
          "execution_count": 1
        }
      ]
    },
    {
      "cell_type": "markdown",
      "metadata": {
        "id": "6tki1dHo-DxI",
        "colab_type": "text"
      },
      "source": [
        "### Dictionary\n",
        "Dictionaries are associative arrays implemented using hash tables. "
      ]
    },
    {
      "cell_type": "code",
      "metadata": {
        "id": "US3j9epTA0D8",
        "colab_type": "code",
        "outputId": "037b0f8b-18ac-4c5b-f644-24c0c0344815",
        "colab": {
          "base_uri": "https://localhost:8080/",
          "height": 102
        }
      },
      "source": [
        "var = {'apple': 0} # or var = dict('apple': 0)\n",
        "\n",
        "var['banana'] = 1\n",
        "print(var)\n",
        "print(f\"Apple value: {var['apple']}\")\n",
        "\n",
        "print(var.keys())\n",
        "print(var.values())\n",
        "print(var.items())"
      ],
      "execution_count": 0,
      "outputs": [
        {
          "output_type": "stream",
          "text": [
            "{'apple': 0, 'banana': 1}\n",
            "Apple value: 0\n",
            "dict_keys(['apple', 'banana'])\n",
            "dict_values([0, 1])\n",
            "dict_items([('apple', 0), ('banana', 1)])\n"
          ],
          "name": "stdout"
        }
      ]
    },
    {
      "cell_type": "markdown",
      "metadata": {
        "id": "bxvLNjdamlJ9",
        "colab_type": "text"
      },
      "source": [
        "## Loops"
      ]
    },
    {
      "cell_type": "markdown",
      "metadata": {
        "id": "8-g-dZXgPFgp",
        "colab_type": "text"
      },
      "source": [
        "### For"
      ]
    },
    {
      "cell_type": "code",
      "metadata": {
        "id": "Oy1vu-n-FHT9",
        "colab_type": "code",
        "outputId": "5ff4fdf0-2679-40aa-c929-23687128052c",
        "colab": {
          "base_uri": "https://localhost:8080/",
          "height": 68
        }
      },
      "source": [
        "var = ['apple', 'banana', 'cactus']\n",
        "\n",
        "for v in var:\n",
        "    print(f'Value: {v}')"
      ],
      "execution_count": 0,
      "outputs": [
        {
          "output_type": "stream",
          "text": [
            "Value: apple\n",
            "Value: banana\n",
            "Value: cactus\n"
          ],
          "name": "stdout"
        }
      ]
    },
    {
      "cell_type": "code",
      "metadata": {
        "id": "vqLFFd4XOn7c",
        "colab_type": "code",
        "outputId": "85ec2e61-f607-462d-9377-321f6787f78b",
        "colab": {
          "base_uri": "https://localhost:8080/",
          "height": 68
        }
      },
      "source": [
        "var = ['apple', 'banana', 'cactus']\n",
        "\n",
        "for i, v in enumerate(var):\n",
        "    print(f'Value {i}: {v}')"
      ],
      "execution_count": 0,
      "outputs": [
        {
          "output_type": "stream",
          "text": [
            "Value 0: apple\n",
            "Value 1: banana\n",
            "Value 2: cactus\n"
          ],
          "name": "stdout"
        }
      ]
    },
    {
      "cell_type": "code",
      "metadata": {
        "id": "NlLJ-xswOx06",
        "colab_type": "code",
        "outputId": "dcf9df69-0181-4485-b648-3768b40bad12",
        "colab": {
          "base_uri": "https://localhost:8080/",
          "height": 68
        }
      },
      "source": [
        "var = {'apple': 0, 'banana': 1, 'cactus': 2}\n",
        "\n",
        "for val, key in var.items():\n",
        "    print(f'Key: {key}\\tValue: {val}')"
      ],
      "execution_count": 0,
      "outputs": [
        {
          "output_type": "stream",
          "text": [
            "Key: 0\tValue: apple\n",
            "Key: 1\tValue: banana\n",
            "Key: 2\tValue: cactus\n"
          ],
          "name": "stdout"
        }
      ]
    },
    {
      "cell_type": "code",
      "metadata": {
        "id": "yTGPq15vmmg-",
        "colab_type": "code",
        "outputId": "f824eeed-6d4a-479e-8303-e0019b8cdb5c",
        "colab": {
          "base_uri": "https://localhost:8080/",
          "height": 187
        }
      },
      "source": [
        "for i in range(10):\n",
        "    print(f'Value: {i}') "
      ],
      "execution_count": 0,
      "outputs": [
        {
          "output_type": "stream",
          "text": [
            "Value: 0\n",
            "Value: 1\n",
            "Value: 2\n",
            "Value: 3\n",
            "Value: 4\n",
            "Value: 5\n",
            "Value: 6\n",
            "Value: 7\n",
            "Value: 8\n",
            "Value: 9\n"
          ],
          "name": "stdout"
        }
      ]
    },
    {
      "cell_type": "markdown",
      "metadata": {
        "id": "OtHP91tQPHLQ",
        "colab_type": "text"
      },
      "source": [
        "### While"
      ]
    },
    {
      "cell_type": "code",
      "metadata": {
        "id": "DVI5R5thPZDb",
        "colab_type": "code",
        "outputId": "99fc992d-782a-4f66-f206-483a429953df",
        "colab": {
          "base_uri": "https://localhost:8080/",
          "height": 187
        }
      },
      "source": [
        "i = 0\n",
        "\n",
        "stop = False\n",
        "\n",
        "while stop == False:\n",
        "    print(f'Value: {i}')\n",
        "    i += 1\n",
        "\n",
        "    if i > 9:\n",
        "        stop = True"
      ],
      "execution_count": 0,
      "outputs": [
        {
          "output_type": "stream",
          "text": [
            "Value: 0\n",
            "Value: 1\n",
            "Value: 2\n",
            "Value: 3\n",
            "Value: 4\n",
            "Value: 5\n",
            "Value: 6\n",
            "Value: 7\n",
            "Value: 8\n",
            "Value: 9\n"
          ],
          "name": "stdout"
        }
      ]
    },
    {
      "cell_type": "code",
      "metadata": {
        "id": "EN0CTzNnPKiQ",
        "colab_type": "code",
        "outputId": "b17dde1b-0a06-4bc8-bde8-c6b94f90c82c",
        "colab": {
          "base_uri": "https://localhost:8080/",
          "height": 187
        }
      },
      "source": [
        "i = 0\n",
        "\n",
        "# Loop 4ever until break\n",
        "while True:\n",
        "    print(f'Value: {i}')\n",
        "    i += 1\n",
        "\n",
        "    if i > 9:\n",
        "        break"
      ],
      "execution_count": 0,
      "outputs": [
        {
          "output_type": "stream",
          "text": [
            "Value: 0\n",
            "Value: 1\n",
            "Value: 2\n",
            "Value: 3\n",
            "Value: 4\n",
            "Value: 5\n",
            "Value: 6\n",
            "Value: 7\n",
            "Value: 8\n",
            "Value: 9\n"
          ],
          "name": "stdout"
        }
      ]
    },
    {
      "cell_type": "markdown",
      "metadata": {
        "id": "XBltxIXnmhqG",
        "colab_type": "text"
      },
      "source": [
        "## Functions"
      ]
    },
    {
      "cell_type": "code",
      "metadata": {
        "id": "jn3oct4ZmjBU",
        "colab_type": "code",
        "outputId": "ffc3aa69-2896-496c-a193-89c988c56057",
        "colab": {
          "base_uri": "https://localhost:8080/",
          "height": 34
        }
      },
      "source": [
        "def plus_one(x):\n",
        "    return x + 1\n",
        "\n",
        "print(plus_one(9))"
      ],
      "execution_count": 0,
      "outputs": [
        {
          "output_type": "stream",
          "text": [
            "10\n"
          ],
          "name": "stdout"
        }
      ]
    },
    {
      "cell_type": "code",
      "metadata": {
        "id": "XdcSlRASRcRd",
        "colab_type": "code",
        "outputId": "f5c7e142-76c5-4d25-ee06-a5f4f3d7285d",
        "colab": {
          "base_uri": "https://localhost:8080/",
          "height": 34
        }
      },
      "source": [
        "def print_plus_one(x, text=''):\n",
        "    print(text, x+1)\n",
        "\n",
        "print_plus_one(9)"
      ],
      "execution_count": 0,
      "outputs": [
        {
          "output_type": "stream",
          "text": [
            " 10\n"
          ],
          "name": "stdout"
        }
      ]
    },
    {
      "cell_type": "markdown",
      "metadata": {
        "id": "cUTUA790mjgF",
        "colab_type": "text"
      },
      "source": [
        "## Classes"
      ]
    },
    {
      "cell_type": "code",
      "metadata": {
        "id": "0vTYBJ1Xmkrr",
        "colab_type": "code",
        "outputId": "341abd85-0eac-4ed3-a8b4-5ee2cff3ddb8",
        "colab": {
          "base_uri": "https://localhost:8080/",
          "height": 85
        }
      },
      "source": [
        "class Eval:\n",
        "    def __init__(self, x):\n",
        "        self.x = x\n",
        "\n",
        "    def plus_one(self):\n",
        "        self.x += 1\n",
        "\n",
        "    def print_plus_one(self, text=''):\n",
        "        self.plus_one()\n",
        "        \n",
        "        if len(text) > 0:\n",
        "            separator = ' '\n",
        "        else:\n",
        "            separator = ''\n",
        "            \n",
        "        print(text, self.x, sep=separator)\n",
        "\n",
        "c = Eval(9)\n",
        "print(f'Get the x class variable: {c.x}')\n",
        "\n",
        "c.plus_one()\n",
        "print(f'Get the x class variable: {c.x}')\n",
        "\n",
        "c.print_plus_one()\n",
        "c.print_plus_one(text='Get the x class variable:')"
      ],
      "execution_count": 0,
      "outputs": [
        {
          "output_type": "stream",
          "text": [
            "Get the x class variable: 9\n",
            "Get the x class variable: 10\n",
            "11\n",
            "Get the x class variable: 12\n"
          ],
          "name": "stdout"
        }
      ]
    },
    {
      "cell_type": "markdown",
      "metadata": {
        "id": "MDzsbPa_4Re9",
        "colab_type": "text"
      },
      "source": [
        "## Try & Except"
      ]
    },
    {
      "cell_type": "code",
      "metadata": {
        "id": "yxis2WBI4DKT",
        "colab_type": "code",
        "outputId": "e204172a-2a18-4822-deff-78760147d733",
        "colab": {
          "base_uri": "https://localhost:8080/",
          "height": 34
        }
      },
      "source": [
        "var = (0, 1, 2) # or var = tuple()\n",
        "\n",
        "# Tuple elements can't be modified\n",
        "# Let's try anyway!!\n",
        "try:\n",
        "    var[0] = 3\n",
        "except:\n",
        "    print('Can\\'t do it.')"
      ],
      "execution_count": 0,
      "outputs": [
        {
          "output_type": "stream",
          "text": [
            "Can't do it.\n"
          ],
          "name": "stdout"
        }
      ]
    },
    {
      "cell_type": "code",
      "metadata": {
        "id": "bvjiHE7-4q_Z",
        "colab_type": "code",
        "outputId": "62e09474-a8c2-4026-ffd8-435f0b2db3bf",
        "colab": {
          "base_uri": "https://localhost:8080/",
          "height": 153
        }
      },
      "source": [
        "var1 = (0, 1, 2) \n",
        "var2 = [0, 1, 2]\n",
        "\n",
        "# Tuple example\n",
        "print('Tuple example')\n",
        "try:\n",
        "    var1[0] = 3\n",
        "except Exception as e:\n",
        "    print(e)\n",
        "else:\n",
        "    print(f'Variable: {var1}')\n",
        "finally:\n",
        "    print('Example ended.\\n\\n')\n",
        "\n",
        "# List example\n",
        "print('List example')\n",
        "try:\n",
        "    var2[0] = 3\n",
        "except Exception as e:\n",
        "    print(e)\n",
        "else:\n",
        "    print(f'Variable: {var2}')\n",
        "finally:\n",
        "    print('Example ended.')"
      ],
      "execution_count": 0,
      "outputs": [
        {
          "output_type": "stream",
          "text": [
            "Tuple example\n",
            "'tuple' object does not support item assignment\n",
            "Example ended.\n",
            "\n",
            "\n",
            "List example\n",
            "Variable: [3, 1, 2]\n",
            "Example ended.\n"
          ],
          "name": "stdout"
        }
      ]
    },
    {
      "cell_type": "markdown",
      "metadata": {
        "id": "z9CC-fAEFvKj",
        "colab_type": "text"
      },
      "source": [
        "# Completed Notebook"
      ]
    },
    {
      "cell_type": "code",
      "metadata": {
        "id": "aYKjd9DrFvk_",
        "colab_type": "code",
        "outputId": "31b2f80d-d8b9-4e58-fa96-0bee85b7af58",
        "colab": {
          "base_uri": "https://localhost:8080/",
          "height": 34
        }
      },
      "source": [
        "import datetime\n",
        "print('Completed running this Notebook at:', datetime.datetime.utcnow().strftime('%Y-%m-%d %H:%M:%S'))"
      ],
      "execution_count": 0,
      "outputs": [
        {
          "output_type": "stream",
          "text": [
            "Completed running this Notebook at: 2019-10-12 17:02:31\n"
          ],
          "name": "stdout"
        }
      ]
    },
    {
      "cell_type": "markdown",
      "metadata": {
        "id": "RdTCZnIB73A7",
        "colab_type": "text"
      },
      "source": [
        "**Sources**\n",
        "\n",
        "> `\"The Quick Python Book\"`, Naomi Ceder\n",
        "\n",
        "> `\"Python Data Science Handbook: Tools and Techniques for Developers\"`, Jake VanderPlas\n",
        "\n"
      ]
    }
  ]
}